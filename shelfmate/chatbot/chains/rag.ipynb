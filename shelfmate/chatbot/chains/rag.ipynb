{
 "cells": [
  {
   "cell_type": "code",
   "execution_count": 1,
   "metadata": {},
   "outputs": [
    {
     "name": "stderr",
     "output_type": "stream",
     "text": [
      "c:\\Users\\david\\CapstoneProjectGroup11\\.conda\\lib\\site-packages\\pinecone\\data\\index.py:1: TqdmWarning: IProgress not found. Please update jupyter and ipywidgets. See https://ipywidgets.readthedocs.io/en/stable/user_install.html\n",
      "  from tqdm.autonotebook import tqdm\n"
     ]
    }
   ],
   "source": [
    "# Standard Library Imports\n",
    "import os\n",
    "from typing import List\n",
    "\n",
    "# Third-Party Libraries\n",
    "from pinecone import Index, Pinecone\n",
    "\n",
    "# LangChain Libraries\n",
    "from langchain_openai import OpenAIEmbeddings, ChatOpenAI\n",
    "from langchain_pinecone import PineconeVectorStore\n",
    "from langchain_core.output_parsers import StrOutputParser\n",
    "from langchain_core.runnables import RunnablePassthrough\n",
    "from langchain_core.prompts import PromptTemplate\n",
    "from langchain.prompts import PromptTemplate\n"
   ]
  },
  {
   "cell_type": "markdown",
   "metadata": {},
   "source": [
    "## Ragchain"
   ]
  },
  {
   "cell_type": "code",
   "execution_count": 5,
   "metadata": {},
   "outputs": [],
   "source": [
    "class RagChain:\n",
    "\n",
    "\n",
    "    def __init__(self, model=\"gpt-4o-mini\"):\n",
    "        \n",
    "        def format_docs(documents):\n",
    "            return \"\\n\\n\".join(doc.page_content for doc in documents)\n",
    "        \n",
    "        pc = Pinecone()\n",
    "        index: Index = pc.Index(\"documents\")\n",
    "        vector_store = PineconeVectorStore(index=index, embedding=OpenAIEmbeddings(model=\"text-embedding-ada-002\"))\n",
    "        retriever = vector_store.as_retriever(\n",
    "            search_type=\"similarity_score_threshold\",\n",
    "            search_kwargs={\"k\": 2, \"score_threshold\": 0.5})\n",
    "        \n",
    "        self.llm = ChatOpenAI(model=model)\n",
    "\n",
    "        self.template = \"\"\" Your task is to clarify the features of the book recommendation system, or about the ShelfMate Company, or about the libraries.\n",
    "                            Use the following pieces of context to answer the question at the end.\n",
    "                            If you don't know the answer, just say that you don't know, don't try to make up an answer.\n",
    "                            Use three sentences maximum and keep the answer as concise as possible.\n",
    "                            \n",
    "\n",
    "        {context}\n",
    "\n",
    "        Question: {question}\n",
    "        \"\"\"\n",
    "\n",
    "        self.custom_rag_prompt = PromptTemplate.from_template(self.template)\n",
    "\n",
    "        self.rag_chain = (\n",
    "            {\"context\": retriever | format_docs, \"question\": RunnablePassthrough()}\n",
    "            | self.custom_rag_prompt\n",
    "            | self.llm\n",
    "            | StrOutputParser()\n",
    "        )\n",
    "\n",
    "    def run_chain(self, question) -> str:\n",
    "        return self.rag_chain.invoke(question)"
   ]
  },
  {
   "cell_type": "code",
   "execution_count": 12,
   "metadata": {},
   "outputs": [
    {
     "data": {
      "text/plain": [
       "\"ShelfMate was created in 2024 to provide highly tailored book recommendations using advanced LLM technology and natural language processing. It focuses on real-time, context-based suggestions that adapt to users' preferences and moods, aiming to make book discovery enjoyable and personalized. The platform aspires to foster a deeper appreciation for literature across diverse genres and cultures.\""
      ]
     },
     "execution_count": 12,
     "metadata": {},
     "output_type": "execute_result"
    }
   ],
   "source": [
    "rag_chain_instance = RagChain()\n",
    "rag_chain_instance.run_chain(\"what can u say about shelfMate that i might not know?\")"
   ]
  }
 ],
 "metadata": {
  "kernelspec": {
   "display_name": "Python 3",
   "language": "python",
   "name": "python3"
  },
  "language_info": {
   "codemirror_mode": {
    "name": "ipython",
    "version": 3
   },
   "file_extension": ".py",
   "mimetype": "text/x-python",
   "name": "python",
   "nbconvert_exporter": "python",
   "pygments_lexer": "ipython3",
   "version": "3.8.20"
  }
 },
 "nbformat": 4,
 "nbformat_minor": 2
}
