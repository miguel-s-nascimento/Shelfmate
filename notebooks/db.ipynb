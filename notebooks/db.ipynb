{
 "cells": [
  {
   "cell_type": "code",
   "execution_count": 1,
   "metadata": {},
   "outputs": [],
   "source": [
    "import sqlite3\n",
    "import pandas as pd"
   ]
  },
  {
   "cell_type": "code",
   "execution_count": 2,
   "metadata": {},
   "outputs": [],
   "source": [
    "con = sqlite3.connect('C:/Users/mnasc/Desktop/LCD/3rd Year/Capstone Project/Project/shelfmate.db')\n",
    "c = con.cursor()"
   ]
  },
  {
   "cell_type": "markdown",
   "metadata": {},
   "source": [
    "# Creating DB Schema"
   ]
  },
  {
   "cell_type": "code",
   "execution_count": 3,
   "metadata": {},
   "outputs": [
    {
     "data": {
      "text/plain": [
       "<sqlite3.Cursor at 0x2c6f06aaec0>"
      ]
     },
     "execution_count": 3,
     "metadata": {},
     "output_type": "execute_result"
    }
   ],
   "source": [
    "c.execute(\"PRAGMA foreign_keys = ON;\")"
   ]
  },
  {
   "cell_type": "code",
   "execution_count": 4,
   "metadata": {},
   "outputs": [
    {
     "data": {
      "text/plain": [
       "<sqlite3.Cursor at 0x2c6f06aaec0>"
      ]
     },
     "execution_count": 4,
     "metadata": {},
     "output_type": "execute_result"
    }
   ],
   "source": [
    "c.execute('''\n",
    "          CREATE TABLE users\n",
    "          (username TEXT PRIMARY KEY,\n",
    "          password TEXT NOT NULL,\n",
    "          name TEXT NOT NULL,\n",
    "          gender CHECK(gender IN ('Male', 'Female', 'Other')),\n",
    "          email TEXT NOT NULL,\n",
    "          district CHECK(district IN (\"Aveiro\",\n",
    "                                    \"Beja\",\n",
    "                                    \"Braga\",\n",
    "                                    \"Bragança\",\n",
    "                                    \"Castelo Branco\",\n",
    "                                    \"Coimbra\",\n",
    "                                    \"Évora\",\n",
    "                                    \"Faro\",\n",
    "                                    \"Guarda\",\n",
    "                                    \"Leiria\",\n",
    "                                    \"Lisboa\",\n",
    "                                    \"Portalegre\",\n",
    "                                    \"Porto\",\n",
    "                                    \"Santarém\",\n",
    "                                    \"Setúbal\",\n",
    "                                    \"Viana do Castelo\",\n",
    "                                    \"Vila Real\",\n",
    "                                    \"Viseu\",\n",
    "                                    \"Açores\",\n",
    "                                    \"Madeira\"))) WITHOUT ROWID\n",
    "        ''')"
   ]
  },
  {
   "cell_type": "code",
   "execution_count": 5,
   "metadata": {},
   "outputs": [
    {
     "data": {
      "text/plain": [
       "<sqlite3.Cursor at 0x2c6f06aaec0>"
      ]
     },
     "execution_count": 5,
     "metadata": {},
     "output_type": "execute_result"
    }
   ],
   "source": [
    "c.execute('''\n",
    "          CREATE TABLE books\n",
    "          (book_id INTEGER PRIMARY KEY,\n",
    "          title TEXT NOT NULL,\n",
    "          description TEXT NOT NULL,\n",
    "          published_date INTEGER,\n",
    "          page_number INTEGER NOT NULL,\n",
    "          rating REAL) WITHOUT ROWID\n",
    "          ''')"
   ]
  },
  {
   "cell_type": "code",
   "execution_count": 6,
   "metadata": {},
   "outputs": [
    {
     "data": {
      "text/plain": [
       "<sqlite3.Cursor at 0x2c6f06aaec0>"
      ]
     },
     "execution_count": 6,
     "metadata": {},
     "output_type": "execute_result"
    }
   ],
   "source": [
    "c.execute('''\n",
    "          CREATE TABLE genres\n",
    "          (genre_id INTEGER PRIMARY KEY,\n",
    "          genre TEXT NOT NULL) WITHOUT ROWID\n",
    "          ''')"
   ]
  },
  {
   "cell_type": "code",
   "execution_count": 7,
   "metadata": {},
   "outputs": [
    {
     "data": {
      "text/plain": [
       "<sqlite3.Cursor at 0x2c6f06aaec0>"
      ]
     },
     "execution_count": 7,
     "metadata": {},
     "output_type": "execute_result"
    }
   ],
   "source": [
    "c.execute('''\n",
    "          CREATE TABLE authors\n",
    "          (author_id INTEGER PRIMARY KEY,\n",
    "          author_name TEXT NOT NULL,\n",
    "          top_genre INTEGER NOT NULL,\n",
    "          FOREIGN KEY (top_genre) REFERENCES genres(genre_id)) WITHOUT ROWID\n",
    "          ''')"
   ]
  },
  {
   "cell_type": "code",
   "execution_count": 8,
   "metadata": {},
   "outputs": [
    {
     "data": {
      "text/plain": [
       "<sqlite3.Cursor at 0x2c6f06aaec0>"
      ]
     },
     "execution_count": 8,
     "metadata": {},
     "output_type": "execute_result"
    }
   ],
   "source": [
    "c.execute('''\n",
    "          CREATE TABLE authors_books\n",
    "          (book_id INTEGER NOT NULL,\n",
    "          author_id INTEGER NOT NULL,\n",
    "          FOREIGN KEY (book_id) REFERENCES books(book_id),\n",
    "          FOREIGN KEY (author_id) REFERENCES authors(author_id))\n",
    "          ''')"
   ]
  },
  {
   "cell_type": "code",
   "execution_count": 9,
   "metadata": {},
   "outputs": [
    {
     "data": {
      "text/plain": [
       "<sqlite3.Cursor at 0x2c6f06aaec0>"
      ]
     },
     "execution_count": 9,
     "metadata": {},
     "output_type": "execute_result"
    }
   ],
   "source": [
    "c.execute('''\n",
    "          CREATE TABLE read_list\n",
    "          (username TEXT NOT NULL,\n",
    "          book_id INTEGER NOT NULL,\n",
    "          rating INTEGER CHECK (rating IS NULL OR (rating >= 1 AND rating <= 5)),\n",
    "          did_not_finish_flag BINARY NOT NULL DEFAULT 0,\n",
    "          FOREIGN KEY (username) REFERENCES users(username),\n",
    "          FOREIGN KEY (book_id) REFERENCES books(book_id))\n",
    "          ''')"
   ]
  },
  {
   "cell_type": "code",
   "execution_count": 10,
   "metadata": {},
   "outputs": [
    {
     "data": {
      "text/plain": [
       "<sqlite3.Cursor at 0x2c6f06aaec0>"
      ]
     },
     "execution_count": 10,
     "metadata": {},
     "output_type": "execute_result"
    }
   ],
   "source": [
    "c.execute('''\n",
    "          CREATE TABLE fav_authors\n",
    "          (username TEXT NOT NULL,\n",
    "          author_id INTEGER NOT NULL,\n",
    "          FOREIGN KEY (username) REFERENCES users(username),\n",
    "          FOREIGN KEY (author_id) REFERENCES authors(author_id))\n",
    "          ''')"
   ]
  },
  {
   "cell_type": "code",
   "execution_count": 11,
   "metadata": {},
   "outputs": [
    {
     "data": {
      "text/plain": [
       "<sqlite3.Cursor at 0x2c6f06aaec0>"
      ]
     },
     "execution_count": 11,
     "metadata": {},
     "output_type": "execute_result"
    }
   ],
   "source": [
    "c.execute('''\n",
    "          CREATE TABLE books_genres\n",
    "          (book_id INTEGER NOT NULL,\n",
    "          genre_id INTEGER NOT NULL,\n",
    "          FOREIGN KEY (book_id) REFERENCES books(book_id),\n",
    "          FOREIGN KEY (genre_id) REFERENCES genres(genre_id))\n",
    "          ''')"
   ]
  },
  {
   "cell_type": "code",
   "execution_count": 12,
   "metadata": {},
   "outputs": [
    {
     "data": {
      "text/plain": [
       "<sqlite3.Cursor at 0x2c6f06aaec0>"
      ]
     },
     "execution_count": 12,
     "metadata": {},
     "output_type": "execute_result"
    }
   ],
   "source": [
    "c.execute('''\n",
    "          CREATE TABLE fav_genres\n",
    "          (username TEXT NOT NULL,\n",
    "          genre_id INTEGER NOT NULL,\n",
    "          FOREIGN KEY (username) REFERENCES users(username),\n",
    "          FOREIGN KEY (genre_id) REFERENCES genres(genre_id))\n",
    "          ''')"
   ]
  },
  {
   "cell_type": "code",
   "execution_count": 13,
   "metadata": {},
   "outputs": [],
   "source": [
    "con.commit()\n",
    "con.close()"
   ]
  },
  {
   "cell_type": "markdown",
   "metadata": {},
   "source": [
    "# Populating the DB"
   ]
  },
  {
   "cell_type": "code",
   "execution_count": 14,
   "metadata": {},
   "outputs": [],
   "source": [
    "con = sqlite3.connect('C:/Users/mnasc/Desktop/LCD/3rd Year/Capstone Project/Project/shelfmate.db')\n",
    "c = con.cursor()"
   ]
  },
  {
   "cell_type": "markdown",
   "metadata": {},
   "source": [
    "## Books Table"
   ]
  },
  {
   "cell_type": "code",
   "execution_count": 15,
   "metadata": {},
   "outputs": [
    {
     "data": {
      "text/html": [
       "<div>\n",
       "<style scoped>\n",
       "    .dataframe tbody tr th:only-of-type {\n",
       "        vertical-align: middle;\n",
       "    }\n",
       "\n",
       "    .dataframe tbody tr th {\n",
       "        vertical-align: top;\n",
       "    }\n",
       "\n",
       "    .dataframe thead th {\n",
       "        text-align: right;\n",
       "    }\n",
       "</style>\n",
       "<table border=\"1\" class=\"dataframe\">\n",
       "  <thead>\n",
       "    <tr style=\"text-align: right;\">\n",
       "      <th></th>\n",
       "      <th>Title</th>\n",
       "      <th>description</th>\n",
       "      <th>authors</th>\n",
       "      <th>publishedDate</th>\n",
       "      <th>categories</th>\n",
       "      <th>number_pages</th>\n",
       "      <th>book_id</th>\n",
       "      <th>review/score</th>\n",
       "    </tr>\n",
       "  </thead>\n",
       "  <tbody>\n",
       "    <tr>\n",
       "      <th>0</th>\n",
       "      <td>History of Magic and the Occult</td>\n",
       "      <td>See the history of witchcraft, magic and super...</td>\n",
       "      <td>['DK']</td>\n",
       "      <td>2020</td>\n",
       "      <td>['Body, Mind &amp; Spirit']</td>\n",
       "      <td>293</td>\n",
       "      <td>1</td>\n",
       "      <td>4.000000</td>\n",
       "    </tr>\n",
       "    <tr>\n",
       "      <th>1</th>\n",
       "      <td>By Honor Bound (The Lassiter Law) (Silhouette ...</td>\n",
       "      <td>A comprehensive guide that defines the literat...</td>\n",
       "      <td>['Kristin Ramsdell']</td>\n",
       "      <td>2012</td>\n",
       "      <td>['Language Arts &amp; Disciplines']</td>\n",
       "      <td>272</td>\n",
       "      <td>2</td>\n",
       "      <td>4.000000</td>\n",
       "    </tr>\n",
       "    <tr>\n",
       "      <th>2</th>\n",
       "      <td>Usa Laminated Map</td>\n",
       "      <td>The United States \"Explorer\" map is a classic ...</td>\n",
       "      <td>['National Geographic Maps']</td>\n",
       "      <td>2015</td>\n",
       "      <td>['Reference']</td>\n",
       "      <td>237</td>\n",
       "      <td>3</td>\n",
       "      <td>5.000000</td>\n",
       "    </tr>\n",
       "    <tr>\n",
       "      <th>3</th>\n",
       "      <td>America at 1750: A Social Portrait</td>\n",
       "      <td>Demonstrates how the colonies developed into t...</td>\n",
       "      <td>['Richard Hofstadter']</td>\n",
       "      <td>1973</td>\n",
       "      <td>['History']</td>\n",
       "      <td>320</td>\n",
       "      <td>4</td>\n",
       "      <td>3.777778</td>\n",
       "    </tr>\n",
       "    <tr>\n",
       "      <th>4</th>\n",
       "      <td>How to Discipline Kids without Losing Their Lo...</td>\n",
       "      <td>Imagine... No More Arguing. Imagine... No More...</td>\n",
       "      <td>['Jim Fay']</td>\n",
       "      <td>2004</td>\n",
       "      <td>['Family &amp; Relationships']</td>\n",
       "      <td>180</td>\n",
       "      <td>5</td>\n",
       "      <td>4.882353</td>\n",
       "    </tr>\n",
       "  </tbody>\n",
       "</table>\n",
       "</div>"
      ],
      "text/plain": [
       "                                               Title  \\\n",
       "0                    History of Magic and the Occult   \n",
       "1  By Honor Bound (The Lassiter Law) (Silhouette ...   \n",
       "2                                  Usa Laminated Map   \n",
       "3                 America at 1750: A Social Portrait   \n",
       "4  How to Discipline Kids without Losing Their Lo...   \n",
       "\n",
       "                                         description  \\\n",
       "0  See the history of witchcraft, magic and super...   \n",
       "1  A comprehensive guide that defines the literat...   \n",
       "2  The United States \"Explorer\" map is a classic ...   \n",
       "3  Demonstrates how the colonies developed into t...   \n",
       "4  Imagine... No More Arguing. Imagine... No More...   \n",
       "\n",
       "                        authors  publishedDate  \\\n",
       "0                        ['DK']           2020   \n",
       "1          ['Kristin Ramsdell']           2012   \n",
       "2  ['National Geographic Maps']           2015   \n",
       "3        ['Richard Hofstadter']           1973   \n",
       "4                   ['Jim Fay']           2004   \n",
       "\n",
       "                        categories  number_pages  book_id  review/score  \n",
       "0          ['Body, Mind & Spirit']           293        1      4.000000  \n",
       "1  ['Language Arts & Disciplines']           272        2      4.000000  \n",
       "2                    ['Reference']           237        3      5.000000  \n",
       "3                      ['History']           320        4      3.777778  \n",
       "4       ['Family & Relationships']           180        5      4.882353  "
      ]
     },
     "execution_count": 15,
     "metadata": {},
     "output_type": "execute_result"
    }
   ],
   "source": [
    "books = pd.read_csv('C:/Users/mnasc/Desktop/LCD/3rd Year/Capstone Project/Project/data/final_data/books.csv')\n",
    "books.head()"
   ]
  },
  {
   "cell_type": "code",
   "execution_count": 16,
   "metadata": {},
   "outputs": [
    {
     "name": "stdout",
     "output_type": "stream",
     "text": [
      "<class 'pandas.core.frame.DataFrame'>\n",
      "RangeIndex: 19294 entries, 0 to 19293\n",
      "Data columns (total 8 columns):\n",
      " #   Column         Non-Null Count  Dtype  \n",
      "---  ------         --------------  -----  \n",
      " 0   Title          19294 non-null  object \n",
      " 1   description    19294 non-null  object \n",
      " 2   authors        19294 non-null  object \n",
      " 3   publishedDate  19294 non-null  int64  \n",
      " 4   categories     19294 non-null  object \n",
      " 5   number_pages   19294 non-null  int64  \n",
      " 6   book_id        19294 non-null  int64  \n",
      " 7   review/score   19294 non-null  float64\n",
      "dtypes: float64(1), int64(3), object(4)\n",
      "memory usage: 1.2+ MB\n"
     ]
    }
   ],
   "source": [
    "books.info()"
   ]
  },
  {
   "cell_type": "code",
   "execution_count": 19,
   "metadata": {},
   "outputs": [],
   "source": [
    "for b in books.book_id:\n",
    "    row = books[books['book_id'] == b].iloc[0] \n",
    "\n",
    "    values = (\n",
    "        float(row['book_id']),\n",
    "        row['Title'],\n",
    "        row['description'],\n",
    "        float(row['publishedDate']),\n",
    "        float(row['number_pages']),\n",
    "        float(row['review/score']))\n",
    "    \n",
    "    c.execute(\"INSERT INTO books (book_id, title, description, published_date, page_number, rating) VALUES (?,?,?,?,?,?)\", values)\n",
    "con.commit()"
   ]
  },
  {
   "cell_type": "markdown",
   "metadata": {},
   "source": [
    "## Users Table"
   ]
  },
  {
   "cell_type": "code",
   "execution_count": 20,
   "metadata": {},
   "outputs": [],
   "source": [
    "users = pd.read_csv('C:/Users/mnasc/Desktop/LCD/3rd Year/Capstone Project/Project/data/final_data/final_users.csv')"
   ]
  },
  {
   "cell_type": "code",
   "execution_count": 21,
   "metadata": {},
   "outputs": [
    {
     "data": {
      "text/html": [
       "<div>\n",
       "<style scoped>\n",
       "    .dataframe tbody tr th:only-of-type {\n",
       "        vertical-align: middle;\n",
       "    }\n",
       "\n",
       "    .dataframe tbody tr th {\n",
       "        vertical-align: top;\n",
       "    }\n",
       "\n",
       "    .dataframe thead th {\n",
       "        text-align: right;\n",
       "    }\n",
       "</style>\n",
       "<table border=\"1\" class=\"dataframe\">\n",
       "  <thead>\n",
       "    <tr style=\"text-align: right;\">\n",
       "      <th></th>\n",
       "      <th>username</th>\n",
       "      <th>name</th>\n",
       "      <th>email</th>\n",
       "      <th>password</th>\n",
       "      <th>gender</th>\n",
       "      <th>district</th>\n",
       "    </tr>\n",
       "  </thead>\n",
       "  <tbody>\n",
       "    <tr>\n",
       "      <th>0</th>\n",
       "      <td>sunny22</td>\n",
       "      <td>Sandra Silva</td>\n",
       "      <td>sandra.silva@example.com</td>\n",
       "      <td>Sunshine123</td>\n",
       "      <td>female</td>\n",
       "      <td>Lisbon</td>\n",
       "    </tr>\n",
       "    <tr>\n",
       "      <th>1</th>\n",
       "      <td>techwizard</td>\n",
       "      <td>Tomás Teixeira</td>\n",
       "      <td>tomas.teixeira@example.com</td>\n",
       "      <td>Techie456</td>\n",
       "      <td>male</td>\n",
       "      <td>Porto</td>\n",
       "    </tr>\n",
       "    <tr>\n",
       "      <th>2</th>\n",
       "      <td>flowerpower</td>\n",
       "      <td>Fátima Fernandes</td>\n",
       "      <td>fatima.fernandes@example.com</td>\n",
       "      <td>Floral789</td>\n",
       "      <td>female</td>\n",
       "      <td>Faro</td>\n",
       "    </tr>\n",
       "    <tr>\n",
       "      <th>3</th>\n",
       "      <td>gamer123</td>\n",
       "      <td>Gonçalo Gomes</td>\n",
       "      <td>goncalo.gomes@example.com</td>\n",
       "      <td>GameOn321</td>\n",
       "      <td>male</td>\n",
       "      <td>Braga</td>\n",
       "    </tr>\n",
       "    <tr>\n",
       "      <th>4</th>\n",
       "      <td>bookworm</td>\n",
       "      <td>Beatriz Barbosa</td>\n",
       "      <td>beatriz.barbosa@example.com</td>\n",
       "      <td>ReadMore987</td>\n",
       "      <td>female</td>\n",
       "      <td>Aveiro</td>\n",
       "    </tr>\n",
       "  </tbody>\n",
       "</table>\n",
       "</div>"
      ],
      "text/plain": [
       "      username              name                         email     password  \\\n",
       "0      sunny22      Sandra Silva      sandra.silva@example.com  Sunshine123   \n",
       "1   techwizard    Tomás Teixeira    tomas.teixeira@example.com    Techie456   \n",
       "2  flowerpower  Fátima Fernandes  fatima.fernandes@example.com    Floral789   \n",
       "3     gamer123     Gonçalo Gomes     goncalo.gomes@example.com    GameOn321   \n",
       "4     bookworm   Beatriz Barbosa   beatriz.barbosa@example.com  ReadMore987   \n",
       "\n",
       "   gender district  \n",
       "0  female   Lisbon  \n",
       "1    male    Porto  \n",
       "2  female     Faro  \n",
       "3    male    Braga  \n",
       "4  female   Aveiro  "
      ]
     },
     "execution_count": 21,
     "metadata": {},
     "output_type": "execute_result"
    }
   ],
   "source": [
    "users.head()"
   ]
  },
  {
   "cell_type": "code",
   "execution_count": 22,
   "metadata": {},
   "outputs": [],
   "source": [
    "# for u in users.username:\n",
    "#     row = users[users['username'] == u].iloc[0] \n",
    "\n",
    "#     values = (\n",
    "#         row['username'],\n",
    "#         row['name'],\n",
    "#         row['email'],\n",
    "#         row['password'],\n",
    "#         row['gender'],\n",
    "#         row['district'])\n",
    "    \n",
    "#     c.execute(\"INSERT INTO users (username, name, email, password, gender, district) VALUES (?,?,?,?,?,?)\", values)\n",
    "# con.commit()"
   ]
  },
  {
   "cell_type": "code",
   "execution_count": 23,
   "metadata": {},
   "outputs": [],
   "source": [
    "# Constraints working"
   ]
  },
  {
   "cell_type": "code",
   "execution_count": 24,
   "metadata": {},
   "outputs": [],
   "source": [
    "users['gender'] = users.gender.str.title()"
   ]
  },
  {
   "cell_type": "code",
   "execution_count": 25,
   "metadata": {},
   "outputs": [],
   "source": [
    "users.iloc[0,-1] = 'Lisboa'"
   ]
  },
  {
   "cell_type": "code",
   "execution_count": 26,
   "metadata": {},
   "outputs": [],
   "source": [
    "for u in users.username:\n",
    "    row = users[users['username'] == u].iloc[0] \n",
    "\n",
    "    values = (\n",
    "        row['username'],\n",
    "        row['name'],\n",
    "        row['email'],\n",
    "        row['password'],\n",
    "        row['gender'],\n",
    "        row['district'])\n",
    "    \n",
    "    c.execute(\"INSERT INTO users (username, name, email, password, gender, district) VALUES (?,?,?,?,?,?)\", values)\n",
    "con.commit()"
   ]
  },
  {
   "cell_type": "markdown",
   "metadata": {},
   "source": [
    "## fav_genres Table"
   ]
  },
  {
   "cell_type": "code",
   "execution_count": 27,
   "metadata": {},
   "outputs": [
    {
     "data": {
      "text/html": [
       "<div>\n",
       "<style scoped>\n",
       "    .dataframe tbody tr th:only-of-type {\n",
       "        vertical-align: middle;\n",
       "    }\n",
       "\n",
       "    .dataframe tbody tr th {\n",
       "        vertical-align: top;\n",
       "    }\n",
       "\n",
       "    .dataframe thead th {\n",
       "        text-align: right;\n",
       "    }\n",
       "</style>\n",
       "<table border=\"1\" class=\"dataframe\">\n",
       "  <thead>\n",
       "    <tr style=\"text-align: right;\">\n",
       "      <th></th>\n",
       "      <th>username</th>\n",
       "      <th>genre_id</th>\n",
       "    </tr>\n",
       "  </thead>\n",
       "  <tbody>\n",
       "    <tr>\n",
       "      <th>0</th>\n",
       "      <td>sunny22</td>\n",
       "      <td>7</td>\n",
       "    </tr>\n",
       "    <tr>\n",
       "      <th>1</th>\n",
       "      <td>sunny22</td>\n",
       "      <td>15</td>\n",
       "    </tr>\n",
       "    <tr>\n",
       "      <th>2</th>\n",
       "      <td>techwizard</td>\n",
       "      <td>3</td>\n",
       "    </tr>\n",
       "    <tr>\n",
       "      <th>3</th>\n",
       "      <td>techwizard</td>\n",
       "      <td>18</td>\n",
       "    </tr>\n",
       "    <tr>\n",
       "      <th>4</th>\n",
       "      <td>techwizard</td>\n",
       "      <td>22</td>\n",
       "    </tr>\n",
       "  </tbody>\n",
       "</table>\n",
       "</div>"
      ],
      "text/plain": [
       "     username  genre_id\n",
       "0     sunny22         7\n",
       "1     sunny22        15\n",
       "2  techwizard         3\n",
       "3  techwizard        18\n",
       "4  techwizard        22"
      ]
     },
     "execution_count": 27,
     "metadata": {},
     "output_type": "execute_result"
    }
   ],
   "source": [
    "fav_genres = pd.read_csv('C:/Users/mnasc/Desktop/LCD/3rd Year/Capstone Project/Project/data/final_data/fav_genres.csv')\n",
    "fav_genres.head()"
   ]
  },
  {
   "cell_type": "code",
   "execution_count": 28,
   "metadata": {},
   "outputs": [],
   "source": [
    "for i in fav_genres.index:\n",
    "    row = fav_genres.iloc[i] \n",
    "\n",
    "    values = (\n",
    "        row['username'],\n",
    "        float(row['genre_id']))\n",
    "    \n",
    "    c.execute(\"INSERT INTO fav_genres (username, genre_id) VALUES (?,?)\", values)\n",
    "con.commit()"
   ]
  },
  {
   "cell_type": "markdown",
   "metadata": {},
   "source": [
    "## fav_authors table"
   ]
  },
  {
   "cell_type": "code",
   "execution_count": 29,
   "metadata": {},
   "outputs": [
    {
     "data": {
      "text/html": [
       "<div>\n",
       "<style scoped>\n",
       "    .dataframe tbody tr th:only-of-type {\n",
       "        vertical-align: middle;\n",
       "    }\n",
       "\n",
       "    .dataframe tbody tr th {\n",
       "        vertical-align: top;\n",
       "    }\n",
       "\n",
       "    .dataframe thead th {\n",
       "        text-align: right;\n",
       "    }\n",
       "</style>\n",
       "<table border=\"1\" class=\"dataframe\">\n",
       "  <thead>\n",
       "    <tr style=\"text-align: right;\">\n",
       "      <th></th>\n",
       "      <th>username</th>\n",
       "      <th>author_id</th>\n",
       "    </tr>\n",
       "  </thead>\n",
       "  <tbody>\n",
       "    <tr>\n",
       "      <th>0</th>\n",
       "      <td>sunny22</td>\n",
       "      <td>4021</td>\n",
       "    </tr>\n",
       "    <tr>\n",
       "      <th>1</th>\n",
       "      <td>sunny22</td>\n",
       "      <td>5185</td>\n",
       "    </tr>\n",
       "    <tr>\n",
       "      <th>2</th>\n",
       "      <td>sunny22</td>\n",
       "      <td>2865</td>\n",
       "    </tr>\n",
       "    <tr>\n",
       "      <th>3</th>\n",
       "      <td>techwizard</td>\n",
       "      <td>1564</td>\n",
       "    </tr>\n",
       "    <tr>\n",
       "      <th>4</th>\n",
       "      <td>techwizard</td>\n",
       "      <td>3992</td>\n",
       "    </tr>\n",
       "  </tbody>\n",
       "</table>\n",
       "</div>"
      ],
      "text/plain": [
       "     username  author_id\n",
       "0     sunny22       4021\n",
       "1     sunny22       5185\n",
       "2     sunny22       2865\n",
       "3  techwizard       1564\n",
       "4  techwizard       3992"
      ]
     },
     "execution_count": 29,
     "metadata": {},
     "output_type": "execute_result"
    }
   ],
   "source": [
    "fav_authors = pd.read_csv('C:/Users/mnasc/Desktop/LCD/3rd Year/Capstone Project/Project/data/final_data/fav_authors.csv')\n",
    "fav_authors.head()"
   ]
  },
  {
   "cell_type": "code",
   "execution_count": 30,
   "metadata": {},
   "outputs": [],
   "source": [
    "for i in fav_authors.index:\n",
    "    row = fav_authors.iloc[i] \n",
    "\n",
    "    values = (\n",
    "        row['username'],\n",
    "        float(row['author_id']))\n",
    "    \n",
    "    c.execute(\"INSERT INTO fav_authors (username, author_id) VALUES (?,?)\", values)\n",
    "con.commit()"
   ]
  },
  {
   "cell_type": "markdown",
   "metadata": {},
   "source": [
    "## Authors Table"
   ]
  },
  {
   "cell_type": "code",
   "execution_count": 31,
   "metadata": {},
   "outputs": [
    {
     "data": {
      "text/html": [
       "<div>\n",
       "<style scoped>\n",
       "    .dataframe tbody tr th:only-of-type {\n",
       "        vertical-align: middle;\n",
       "    }\n",
       "\n",
       "    .dataframe tbody tr th {\n",
       "        vertical-align: top;\n",
       "    }\n",
       "\n",
       "    .dataframe thead th {\n",
       "        text-align: right;\n",
       "    }\n",
       "</style>\n",
       "<table border=\"1\" class=\"dataframe\">\n",
       "  <thead>\n",
       "    <tr style=\"text-align: right;\">\n",
       "      <th></th>\n",
       "      <th>author_id</th>\n",
       "      <th>author</th>\n",
       "      <th>genre_id</th>\n",
       "    </tr>\n",
       "  </thead>\n",
       "  <tbody>\n",
       "    <tr>\n",
       "      <th>0</th>\n",
       "      <td>1</td>\n",
       "      <td>DK</td>\n",
       "      <td>7</td>\n",
       "    </tr>\n",
       "    <tr>\n",
       "      <th>1</th>\n",
       "      <td>2</td>\n",
       "      <td>Kristin Ramsdell</td>\n",
       "      <td>2</td>\n",
       "    </tr>\n",
       "    <tr>\n",
       "      <th>2</th>\n",
       "      <td>3</td>\n",
       "      <td>National Geographic Maps</td>\n",
       "      <td>3</td>\n",
       "    </tr>\n",
       "    <tr>\n",
       "      <th>3</th>\n",
       "      <td>4</td>\n",
       "      <td>Richard Hofstadter</td>\n",
       "      <td>4</td>\n",
       "    </tr>\n",
       "    <tr>\n",
       "      <th>4</th>\n",
       "      <td>5</td>\n",
       "      <td>Jim Fay</td>\n",
       "      <td>5</td>\n",
       "    </tr>\n",
       "  </tbody>\n",
       "</table>\n",
       "</div>"
      ],
      "text/plain": [
       "   author_id                    author  genre_id\n",
       "0          1                        DK         7\n",
       "1          2          Kristin Ramsdell         2\n",
       "2          3  National Geographic Maps         3\n",
       "3          4        Richard Hofstadter         4\n",
       "4          5                   Jim Fay         5"
      ]
     },
     "execution_count": 31,
     "metadata": {},
     "output_type": "execute_result"
    }
   ],
   "source": [
    "authors = pd.read_csv('C:/Users/mnasc/Desktop/LCD/3rd Year/Capstone Project/Project/data/final_data/authors.csv')\n",
    "authors.head()"
   ]
  },
  {
   "cell_type": "code",
   "execution_count": 32,
   "metadata": {},
   "outputs": [
    {
     "name": "stdout",
     "output_type": "stream",
     "text": [
      "<class 'pandas.core.frame.DataFrame'>\n",
      "RangeIndex: 5751 entries, 0 to 5750\n",
      "Data columns (total 3 columns):\n",
      " #   Column     Non-Null Count  Dtype \n",
      "---  ------     --------------  ----- \n",
      " 0   author_id  5751 non-null   int64 \n",
      " 1   author     5751 non-null   object\n",
      " 2   genre_id   5751 non-null   int64 \n",
      "dtypes: int64(2), object(1)\n",
      "memory usage: 134.9+ KB\n"
     ]
    }
   ],
   "source": [
    "authors.info()"
   ]
  },
  {
   "cell_type": "code",
   "execution_count": 33,
   "metadata": {},
   "outputs": [],
   "source": [
    "for a in authors.author_id:\n",
    "    row = authors[authors['author_id'] == a].iloc[0] \n",
    "\n",
    "    values = (\n",
    "        float(row['author_id']),\n",
    "        row['author'],\n",
    "        float(row['genre_id']))\n",
    "    \n",
    "    c.execute(\"INSERT INTO authors (author_id, author_name, top_genre) VALUES (?,?,?)\", values)\n",
    "con.commit()"
   ]
  },
  {
   "cell_type": "markdown",
   "metadata": {},
   "source": [
    "## Read List Table"
   ]
  },
  {
   "cell_type": "code",
   "execution_count": 34,
   "metadata": {},
   "outputs": [
    {
     "data": {
      "text/html": [
       "<div>\n",
       "<style scoped>\n",
       "    .dataframe tbody tr th:only-of-type {\n",
       "        vertical-align: middle;\n",
       "    }\n",
       "\n",
       "    .dataframe tbody tr th {\n",
       "        vertical-align: top;\n",
       "    }\n",
       "\n",
       "    .dataframe thead th {\n",
       "        text-align: right;\n",
       "    }\n",
       "</style>\n",
       "<table border=\"1\" class=\"dataframe\">\n",
       "  <thead>\n",
       "    <tr style=\"text-align: right;\">\n",
       "      <th></th>\n",
       "      <th>username</th>\n",
       "      <th>book_id</th>\n",
       "      <th>rating</th>\n",
       "      <th>did_not_finish_flag</th>\n",
       "    </tr>\n",
       "  </thead>\n",
       "  <tbody>\n",
       "    <tr>\n",
       "      <th>0</th>\n",
       "      <td>sunny22</td>\n",
       "      <td>13456</td>\n",
       "      <td>5.0</td>\n",
       "      <td>0</td>\n",
       "    </tr>\n",
       "    <tr>\n",
       "      <th>1</th>\n",
       "      <td>sunny22</td>\n",
       "      <td>289</td>\n",
       "      <td>3.0</td>\n",
       "      <td>0</td>\n",
       "    </tr>\n",
       "    <tr>\n",
       "      <th>2</th>\n",
       "      <td>sunny22</td>\n",
       "      <td>7567</td>\n",
       "      <td>NaN</td>\n",
       "      <td>1</td>\n",
       "    </tr>\n",
       "    <tr>\n",
       "      <th>3</th>\n",
       "      <td>sunny22</td>\n",
       "      <td>16789</td>\n",
       "      <td>2.0</td>\n",
       "      <td>0</td>\n",
       "    </tr>\n",
       "    <tr>\n",
       "      <th>4</th>\n",
       "      <td>sunny22</td>\n",
       "      <td>9087</td>\n",
       "      <td>4.0</td>\n",
       "      <td>0</td>\n",
       "    </tr>\n",
       "  </tbody>\n",
       "</table>\n",
       "</div>"
      ],
      "text/plain": [
       "  username  book_id  rating  did_not_finish_flag\n",
       "0  sunny22    13456     5.0                    0\n",
       "1  sunny22      289     3.0                    0\n",
       "2  sunny22     7567     NaN                    1\n",
       "3  sunny22    16789     2.0                    0\n",
       "4  sunny22     9087     4.0                    0"
      ]
     },
     "execution_count": 34,
     "metadata": {},
     "output_type": "execute_result"
    }
   ],
   "source": [
    "read_list = pd.read_csv('C:/Users/mnasc/Desktop/LCD/3rd Year/Capstone Project/Project/data/final_data/read_list.csv')\n",
    "read_list.head()"
   ]
  },
  {
   "cell_type": "code",
   "execution_count": 35,
   "metadata": {},
   "outputs": [],
   "source": [
    "for i in read_list.index:\n",
    "    row = read_list.iloc[i] \n",
    "\n",
    "    values = (\n",
    "        row['username'],\n",
    "        float(row['book_id']),\n",
    "        float(row['rating']),\n",
    "        float(row['did_not_finish_flag']))\n",
    "    \n",
    "    c.execute(\"INSERT INTO read_list (username, book_id, rating, did_not_finish_flag) VALUES (?,?,?,?)\", values)\n",
    "con.commit()"
   ]
  },
  {
   "cell_type": "markdown",
   "metadata": {},
   "source": [
    "## Genres Table"
   ]
  },
  {
   "cell_type": "code",
   "execution_count": 36,
   "metadata": {},
   "outputs": [
    {
     "data": {
      "text/html": [
       "<div>\n",
       "<style scoped>\n",
       "    .dataframe tbody tr th:only-of-type {\n",
       "        vertical-align: middle;\n",
       "    }\n",
       "\n",
       "    .dataframe tbody tr th {\n",
       "        vertical-align: top;\n",
       "    }\n",
       "\n",
       "    .dataframe thead th {\n",
       "        text-align: right;\n",
       "    }\n",
       "</style>\n",
       "<table border=\"1\" class=\"dataframe\">\n",
       "  <thead>\n",
       "    <tr style=\"text-align: right;\">\n",
       "      <th></th>\n",
       "      <th>genre_id</th>\n",
       "      <th>genre</th>\n",
       "    </tr>\n",
       "  </thead>\n",
       "  <tbody>\n",
       "    <tr>\n",
       "      <th>0</th>\n",
       "      <td>1</td>\n",
       "      <td>Body, Mind &amp; Spirit</td>\n",
       "    </tr>\n",
       "    <tr>\n",
       "      <th>1</th>\n",
       "      <td>2</td>\n",
       "      <td>Language Arts &amp; Disciplines</td>\n",
       "    </tr>\n",
       "    <tr>\n",
       "      <th>2</th>\n",
       "      <td>3</td>\n",
       "      <td>Reference</td>\n",
       "    </tr>\n",
       "    <tr>\n",
       "      <th>3</th>\n",
       "      <td>4</td>\n",
       "      <td>History</td>\n",
       "    </tr>\n",
       "    <tr>\n",
       "      <th>4</th>\n",
       "      <td>5</td>\n",
       "      <td>Family &amp; Relationships</td>\n",
       "    </tr>\n",
       "  </tbody>\n",
       "</table>\n",
       "</div>"
      ],
      "text/plain": [
       "   genre_id                        genre\n",
       "0         1          Body, Mind & Spirit\n",
       "1         2  Language Arts & Disciplines\n",
       "2         3                    Reference\n",
       "3         4                      History\n",
       "4         5       Family & Relationships"
      ]
     },
     "execution_count": 36,
     "metadata": {},
     "output_type": "execute_result"
    }
   ],
   "source": [
    "genres = pd.read_csv('C:/Users/mnasc/Desktop/LCD/3rd Year/Capstone Project/Project/data/final_data/genres.csv')\n",
    "genres.head()"
   ]
  },
  {
   "cell_type": "code",
   "execution_count": 37,
   "metadata": {},
   "outputs": [],
   "source": [
    "for i in genres.genre_id:\n",
    "    row = genres[genres['genre_id'] == i].iloc[0] \n",
    "\n",
    "    values = (\n",
    "        float(row['genre_id']),\n",
    "        row['genre'])\n",
    "    \n",
    "    c.execute(\"INSERT INTO genres (genre_id, genre) VALUES (?,?)\", values)\n",
    "con.commit()"
   ]
  },
  {
   "cell_type": "markdown",
   "metadata": {},
   "source": [
    "## authors_books Table"
   ]
  },
  {
   "cell_type": "code",
   "execution_count": 38,
   "metadata": {},
   "outputs": [
    {
     "data": {
      "text/html": [
       "<div>\n",
       "<style scoped>\n",
       "    .dataframe tbody tr th:only-of-type {\n",
       "        vertical-align: middle;\n",
       "    }\n",
       "\n",
       "    .dataframe tbody tr th {\n",
       "        vertical-align: top;\n",
       "    }\n",
       "\n",
       "    .dataframe thead th {\n",
       "        text-align: right;\n",
       "    }\n",
       "</style>\n",
       "<table border=\"1\" class=\"dataframe\">\n",
       "  <thead>\n",
       "    <tr style=\"text-align: right;\">\n",
       "      <th></th>\n",
       "      <th>book_id</th>\n",
       "      <th>author_id</th>\n",
       "    </tr>\n",
       "  </thead>\n",
       "  <tbody>\n",
       "    <tr>\n",
       "      <th>0</th>\n",
       "      <td>1</td>\n",
       "      <td>1</td>\n",
       "    </tr>\n",
       "    <tr>\n",
       "      <th>1</th>\n",
       "      <td>2</td>\n",
       "      <td>2</td>\n",
       "    </tr>\n",
       "    <tr>\n",
       "      <th>2</th>\n",
       "      <td>3</td>\n",
       "      <td>3</td>\n",
       "    </tr>\n",
       "    <tr>\n",
       "      <th>3</th>\n",
       "      <td>4</td>\n",
       "      <td>4</td>\n",
       "    </tr>\n",
       "    <tr>\n",
       "      <th>4</th>\n",
       "      <td>5</td>\n",
       "      <td>5</td>\n",
       "    </tr>\n",
       "  </tbody>\n",
       "</table>\n",
       "</div>"
      ],
      "text/plain": [
       "   book_id  author_id\n",
       "0        1          1\n",
       "1        2          2\n",
       "2        3          3\n",
       "3        4          4\n",
       "4        5          5"
      ]
     },
     "execution_count": 38,
     "metadata": {},
     "output_type": "execute_result"
    }
   ],
   "source": [
    "authors_books = pd.read_csv('C:/Users/mnasc/Desktop/LCD/3rd Year/Capstone Project/Project/data/final_data/authors_books.csv')\n",
    "authors_books.head()"
   ]
  },
  {
   "cell_type": "code",
   "execution_count": 39,
   "metadata": {},
   "outputs": [],
   "source": [
    "for i in authors_books.index:\n",
    "    row = authors_books.iloc[i] \n",
    "\n",
    "    values = (\n",
    "        float(row['book_id']),\n",
    "        float(row['author_id']))\n",
    "    \n",
    "    c.execute(\"INSERT INTO authors_books (book_id, author_id) VALUES (?,?)\", values)\n",
    "con.commit()"
   ]
  },
  {
   "cell_type": "markdown",
   "metadata": {},
   "source": [
    "## books_genres Table"
   ]
  },
  {
   "cell_type": "code",
   "execution_count": 40,
   "metadata": {},
   "outputs": [
    {
     "data": {
      "text/html": [
       "<div>\n",
       "<style scoped>\n",
       "    .dataframe tbody tr th:only-of-type {\n",
       "        vertical-align: middle;\n",
       "    }\n",
       "\n",
       "    .dataframe tbody tr th {\n",
       "        vertical-align: top;\n",
       "    }\n",
       "\n",
       "    .dataframe thead th {\n",
       "        text-align: right;\n",
       "    }\n",
       "</style>\n",
       "<table border=\"1\" class=\"dataframe\">\n",
       "  <thead>\n",
       "    <tr style=\"text-align: right;\">\n",
       "      <th></th>\n",
       "      <th>book_id</th>\n",
       "      <th>genre_id</th>\n",
       "    </tr>\n",
       "  </thead>\n",
       "  <tbody>\n",
       "    <tr>\n",
       "      <th>0</th>\n",
       "      <td>1</td>\n",
       "      <td>1</td>\n",
       "    </tr>\n",
       "    <tr>\n",
       "      <th>1</th>\n",
       "      <td>2</td>\n",
       "      <td>2</td>\n",
       "    </tr>\n",
       "    <tr>\n",
       "      <th>2</th>\n",
       "      <td>3</td>\n",
       "      <td>3</td>\n",
       "    </tr>\n",
       "    <tr>\n",
       "      <th>3</th>\n",
       "      <td>4</td>\n",
       "      <td>4</td>\n",
       "    </tr>\n",
       "    <tr>\n",
       "      <th>4</th>\n",
       "      <td>5</td>\n",
       "      <td>5</td>\n",
       "    </tr>\n",
       "  </tbody>\n",
       "</table>\n",
       "</div>"
      ],
      "text/plain": [
       "   book_id  genre_id\n",
       "0        1         1\n",
       "1        2         2\n",
       "2        3         3\n",
       "3        4         4\n",
       "4        5         5"
      ]
     },
     "execution_count": 40,
     "metadata": {},
     "output_type": "execute_result"
    }
   ],
   "source": [
    "books_genres = pd.read_csv('C:/Users/mnasc/Desktop/LCD/3rd Year/Capstone Project/Project/data/final_data/books_genres.csv')\n",
    "books_genres.head()"
   ]
  },
  {
   "cell_type": "code",
   "execution_count": 41,
   "metadata": {},
   "outputs": [],
   "source": [
    "for i in books_genres.index:\n",
    "    row = books_genres.iloc[i] \n",
    "\n",
    "    values = (\n",
    "        float(row['book_id']),\n",
    "        float(row['genre_id']))\n",
    "    \n",
    "    c.execute(\"INSERT INTO books_genres (book_id, genre_id) VALUES (?,?)\", values)\n",
    "con.commit()"
   ]
  },
  {
   "cell_type": "code",
   "execution_count": 42,
   "metadata": {},
   "outputs": [],
   "source": [
    "con.close()"
   ]
  }
 ],
 "metadata": {
  "kernelspec": {
   "display_name": "capstone-project",
   "language": "python",
   "name": "python3"
  },
  "language_info": {
   "codemirror_mode": {
    "name": "ipython",
    "version": 3
   },
   "file_extension": ".py",
   "mimetype": "text/x-python",
   "name": "python",
   "nbconvert_exporter": "python",
   "pygments_lexer": "ipython3",
   "version": "3.12.7"
  }
 },
 "nbformat": 4,
 "nbformat_minor": 2
}
